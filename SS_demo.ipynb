{
 "cells": [
  {
   "cell_type": "code",
   "execution_count": 2,
   "id": "262ef6e6",
   "metadata": {
    "tags": []
   },
   "outputs": [],
   "source": [
    "import os\n",
    "import pandas as pd\n",
    "import numpy as np\n",
    "import matplotlib.pyplot as plt\n",
    "import seaborn as sns\n",
    "from sklearn.utils import shuffle #sklearn has SSL algorithms - Label Propagation and Label Spreading\n",
    "import pomegranate as pg\n",
    "from sklearn.linear_model import LogisticRegression\n",
    "from sklearn.semi_supervised import LabelPropagation, LabelSpreading\n",
    "from sklearn.metrics import roc_auc_score\n",
    "from sklearn.datasets import load_breast_cancer\n",
    "import warnings\n",
    "import shutil\n",
    "from tensorflow import keras\n",
    "from tensorflow.keras import layers\n",
    "from tensorflow.keras.layers import Conv2D, MaxPooling2D, Flatten, Dense, Dropout\n",
    "from tensorflow.keras.models import Sequential\n",
    "from sklearn.model_selection import train_test_split\n",
    "from tensorflow.keras.preprocessing.image import ImageDataGenerator\n",
    "warnings.simplefilter('ignore')\n",
    "np.random.seed(1)"
   ]
  },
  {
   "cell_type": "code",
   "execution_count": 3,
   "id": "f36fcb22",
   "metadata": {
    "tags": []
   },
   "outputs": [],
   "source": [
    "img_height = 224\n",
    "img_width = 224\n",
    "ushapes = r\"/Users/seohyeon/Documents/2023-1/lab/space_weather_proj/semi-supervised/dataset_supervised/square_images_size224_cleaned/UShape/\"\n",
    "no_ushapes = r\"/Users/seohyeon/Documents/2023-1/lab/space_weather_proj/semi-supervised/dataset_supervised/square_images_size224_cleaned/NoUshape/\"\n",
    "#ushapes = r\"/Users/seohyeon/Documents/2023-1/lab/space_weather_proj/semi-supervised/dataset_supervised/square_images_size224_cleaned\""
   ]
  },
  {
   "cell_type": "code",
   "execution_count": 4,
   "id": "a769f94e",
   "metadata": {
    "tags": []
   },
   "outputs": [
    {
     "name": "stdout",
     "output_type": "stream",
     "text": [
      "total specto: 3990, ushape: 168, noushape: 3822\n",
      "training size: 39, testing size: 997, unlabeled size: 2952\n"
     ]
    }
   ],
   "source": [
    "def extract_spectrograms(path):\n",
    "    os.chdir(path)\n",
    "\n",
    "    spectrograms = []\n",
    "\n",
    "    with os.scandir(path) as files:\n",
    "        for file in files:\n",
    "            #print(file.name)\n",
    "            if file.name.endswith('.png'):\n",
    "                spectrograms.append(file.path)\n",
    "        return spectrograms\n",
    "\n",
    "ushape_spectrograms = extract_spectrograms(ushapes)\n",
    "#print('2')\n",
    "no_ushape_spectrograms = extract_spectrograms(no_ushapes)\n",
    "total_spectrograms = ushape_spectrograms + no_ushape_spectrograms\n",
    "#import random\n",
    "#random.shuffle(total_spectograms)\n",
    "print(f\"total specto: {len(total_spectrograms)}, ushape: {len(ushape_spectrograms)}, noushape: {len(no_ushape_spectrograms)}\")\n",
    "training_size = int(len(total_spectrograms) * 0.01)\n",
    "testing_size = int(len(total_spectrograms) * 0.25)\n",
    "unlabeled_size = int(len(total_spectrograms) * .74)\n",
    "print(f\"training size: {training_size}, testing size: {testing_size}, unlabeled size: {unlabeled_size}\")"
   ]
  },
  {
   "cell_type": "code",
   "execution_count": 13,
   "id": "8b5afccb-83a5-4ba6-b999-adcb8bab62ff",
   "metadata": {
    "tags": []
   },
   "outputs": [],
   "source": [
    "def createFolder(directory):\n",
    "    try:\n",
    "        if not os.path.exists(directory):\n",
    "            os.makedirs(directory)\n",
    "    except OSError:\n",
    "        print ('Error: Creating directory. ' +  directory)\n",
    " \n",
    "createFolder('/Users/seohyeon/Documents/2023-1/lab/space_weather_proj/semi-supervised/dataset_semisupervised/labeled/ushape/')\n",
    "createFolder('/Users/seohyeon/Documents/2023-1/lab/space_weather_proj/semi-supervised/dataset_semisupervised/labeled/noushape/')\n",
    "createFolder('/Users/seohyeon/Documents/2023-1/lab/space_weather_proj/semi-supervised/dataset_semisupervised/unlabeled/')\n",
    "createFolder('/Users/seohyeon/Documents/2023-1/lab/space_weather_proj/semi-supervised/dataset_semisupervised/test/ushape/')\n",
    "createFolder('/Users/seohyeon/Documents/2023-1/lab/space_weather_proj/semi-supervised/dataset_semisupervised/test/noushape/')\n",
    "\n",
    "labeled_ushape_path = r\"/Users/seohyeon/Documents/2023-1/lab/space_weather_proj/semi-supervised/dataset_semisupervised/labeled/ushape/\"\n",
    "labeled_noushape_path = r\"/Users/seohyeon/Documents/2023-1/lab/space_weather_proj/semi-supervised/dataset_semisupervised/labeled/noushape/\"\n",
    "unlabeled_path = r\"/Users/seohyeon/Documents/2023-1/lab/space_weather_proj/semi-supervised/dataset_semisupervised/unlabeled/\"\n",
    "test_ushape_path = r\"/Users/seohyeon/Documents/2023-1/lab/space_weather_proj/semi-supervised/dataset_semisupervised/test/ushape/\"\n",
    "test_noushape_path = r\"/Users/seohyeon/Documents/2023-1/lab/space_weather_proj/semi-supervised/dataset_semisupervised/test/noushape/\""
   ]
  },
  {
   "cell_type": "code",
   "execution_count": 14,
   "id": "5101eb94-25c3-45b7-bb8c-8e573d25e3ac",
   "metadata": {
    "tags": []
   },
   "outputs": [],
   "source": [
    "#folder\n",
    "\n",
    "cut_1 = 168/3\n",
    "cut_2 = 3822/3*0.25\n",
    "\n",
    "for i, ushape in enumerate(os.listdir(ushapes)):\n",
    "    if(ushape.endswith('png')):\n",
    "        if i<cut_1:\n",
    "            shutil.copy(ushapes + ushape, labeled_ushape_path + ushape)\n",
    "        elif i>cut_1 and i<cut_1*2:\n",
    "            shutil.copy(ushapes + ushape, test_ushape_path + ushape)\n",
    "        elif i>cut_1*2:\n",
    "            shutil.copy(ushapes + ushape, unlabeled_path + ushape)\n",
    "            \n",
    "for i, noushape in enumerate(os.listdir(no_ushapes)):\n",
    "    if(noushape.endswith('png')):\n",
    "        if i<cut_2:\n",
    "            shutil.copy(no_ushapes + noushape, labeled_noushape_path + noushape)\n",
    "        elif i>cut_2 and i<cut_2*2:\n",
    "            shutil.copy(no_ushapes + noushape, test_noushape_path + noushape)\n",
    "        elif i>cut_2*2:\n",
    "            shutil.copy(no_ushapes + noushape, unlabeled_path + noushape)\n"
   ]
  },
  {
   "cell_type": "code",
   "execution_count": 26,
   "id": "2c2afb12-943f-444a-bce3-9e92b00db960",
   "metadata": {
    "tags": []
   },
   "outputs": [
    {
     "name": "stdout",
     "output_type": "stream",
     "text": [
      "56 318 55 318\n"
     ]
    }
   ],
   "source": [
    "labeled_ushape = extract_spectrograms(labeled_ushape_path)\n",
    "labeled_noushape = extract_spectrograms(labeled_noushape_path)\n",
    "test_ushape = extract_spectrograms(test_ushape_path)\n",
    "test_noushape = extract_spectrograms(test_noushape_path)\n",
    "unlabeled = extract_spectrograms(unlabeled_path)\n",
    "print(len(labeled_ushape), len(labeled_noushape), len(test_ushape), len(test_noushape))"
   ]
  },
  {
   "cell_type": "code",
   "execution_count": 122,
   "id": "0eeb179f",
   "metadata": {
    "tags": []
   },
   "outputs": [],
   "source": [
    "#make dataframe\n",
    "def fill_df_with_label(spectrograms, label):\n",
    "    new_df =  pd.DataFrame()\n",
    "    new_df['filename'] = spectrograms\n",
    "    new_df['label'] = [label] * len(spectrograms)\n",
    "    return new_df\n",
    "\n",
    "df_lb = pd.concat([fill_df_with_label(labeled_ushape, \"ushape\"),fill_df_with_label(labeled_noushape, \"noshape\")])\n",
    "df_test = pd.concat([fill_df_with_label(test_ushape, \"ushape\"),fill_df_with_label(test_noushape, \"noshape\")])\n",
    "df_unlabeled = fill_df_with_label(unlabeled, \"-1\")\n",
    "# df_total=pd.concat([df_lb, df_test])\n",
    "# df_total = df_total.sample(frac=1)\n",
    "# df_total.describe()"
   ]
  },
  {
   "cell_type": "code",
   "execution_count": 42,
   "id": "f97a36e9",
   "metadata": {
    "tags": []
   },
   "outputs": [
    {
     "name": "stdout",
     "output_type": "stream",
     "text": [
      "997 998 1995\n"
     ]
    }
   ],
   "source": [
    "# labeled, unlabeled, test = np.split(df_total, [int(.25*len(df_total)), int(.5*len(df_total))])\n",
    "# labeled_unlabeled = pd.concat([labeled, unlabeled])\n",
    "# print(len(labeled), len(unlabeled), len(test))"
   ]
  },
  {
   "cell_type": "code",
   "execution_count": 29,
   "id": "e824a198",
   "metadata": {
    "tags": []
   },
   "outputs": [
    {
     "name": "stdout",
     "output_type": "stream",
     "text": [
      "Found 374 validated image filenames belonging to 2 classes.\n",
      "Found 373 validated image filenames belonging to 2 classes.\n"
     ]
    }
   ],
   "source": [
    "import scipy \n",
    "from tensorflow.keras.preprocessing.image import ImageDataGenerator\n",
    "\n",
    "# Create the ImageDataGenerator object\n",
    "labeled_datagen = ImageDataGenerator(\n",
    "    featurewise_center=True,\n",
    "    featurewise_std_normalization=True,\n",
    "    rotation_range=20,\n",
    "    width_shift_range=0.2,\n",
    "    height_shift_range=0.2,\n",
    "    horizontal_flip=True,\n",
    ")\n",
    "\n",
    "test_datagen = ImageDataGenerator(\n",
    "    featurewise_center=True,\n",
    "    featurewise_std_normalization=True,\n",
    "    rotation_range=20,\n",
    "    width_shift_range=0.2,\n",
    "    height_shift_range=0.2,\n",
    "    horizontal_flip=True,\n",
    ") \n",
    "\n",
    "#Generate batches and augment the images\n",
    "labeled_generator = labeled_datagen.flow_from_dataframe(\n",
    "    df_lb,\n",
    "    x_col='filename',\n",
    "    y_col='label',\n",
    "    class_mode='binary',\n",
    "    target_size=(224, 224),\n",
    ")\n",
    "\n",
    "test_generator = test_datagen.flow_from_dataframe(\n",
    "    df_test,\n",
    "    x_col='filename',\n",
    "    y_col='label',\n",
    "    class_mode='binary',\n",
    "    target_size=(224, 224),\n",
    ")"
   ]
  },
  {
   "cell_type": "code",
   "execution_count": 20,
   "id": "c84b508a",
   "metadata": {
    "tags": []
   },
   "outputs": [],
   "source": [
    "def create_model(METRICS):\n",
    "  model = Sequential([\n",
    "    #data_augmentation,\n",
    "    layers.Input(shape=(224, 224, 3)),\n",
    "    layers.Rescaling(1./255),\n",
    "    layers.Conv2D(16, 3, padding='same', activation='relu'),\n",
    "    layers.MaxPooling2D(),\n",
    "    layers.Conv2D(32, 3, padding='same', activation='relu'),\n",
    "    layers.MaxPooling2D(),\n",
    "    layers.Conv2D(64, 3, padding='same', activation='relu'),\n",
    "    layers.MaxPooling2D(),\n",
    "    layers.Dropout(0.2),\n",
    "    layers.Flatten(),\n",
    "    layers.Dense(128, activation='relu'),\n",
    "    layers.Dense(1, activation='sigmoid')\n",
    "  ])\n",
    "  model.compile(optimizer='adam',\n",
    "                loss='binary_crossentropy',\n",
    "                metrics=METRICS)\n",
    "  return model\n"
   ]
  },
  {
   "cell_type": "code",
   "execution_count": 21,
   "id": "df3d2d92-d58d-4c1a-8e4e-daa174a9e819",
   "metadata": {
    "tags": []
   },
   "outputs": [
    {
     "name": "stdout",
     "output_type": "stream",
     "text": [
      "Metal device set to: Apple M1 Pro\n"
     ]
    }
   ],
   "source": [
    "METRICS = [\n",
    "      keras.metrics.BinaryAccuracy(name='accuracy'),\n",
    "      keras.metrics.Precision(name='precision'),\n",
    "      keras.metrics.Recall(name='recall'),\n",
    "      keras.metrics.AUC(name='auc'),\n",
    "      keras.metrics.AUC(name='prc', curve='PR'), # precision-recall curve\n",
    "]"
   ]
  },
  {
   "cell_type": "code",
   "execution_count": 146,
   "id": "d2eeee17-7342-4421-b335-c4a6aacea844",
   "metadata": {
    "tags": []
   },
   "outputs": [
    {
     "name": "stdout",
     "output_type": "stream",
     "text": [
      "Epoch 1/25\n",
      "12/12 [==============================] - 3s 234ms/step - loss: 0.5888 - accuracy: 0.8648 - precision: 0.0800 - recall: 0.0250 - auc: 0.5881 - prc: 0.1469\n",
      "Epoch 2/25\n",
      "12/12 [==============================] - 3s 238ms/step - loss: 0.4148 - accuracy: 0.8503 - precision: 0.0000e+00 - recall: 0.0000e+00 - auc: 0.6126 - prc: 0.1901\n",
      "Epoch 3/25\n",
      "12/12 [==============================] - 3s 242ms/step - loss: 0.3929 - accuracy: 0.8503 - precision: 0.0000e+00 - recall: 0.0000e+00 - auc: 0.6889 - prc: 0.2553\n",
      "Epoch 4/25\n",
      "12/12 [==============================] - 3s 239ms/step - loss: 0.3718 - accuracy: 0.8503 - precision: 0.0000e+00 - recall: 0.0000e+00 - auc: 0.7551 - prc: 0.3260\n",
      "Epoch 5/25\n",
      "12/12 [==============================] - 3s 236ms/step - loss: 0.3691 - accuracy: 0.8503 - precision: 0.0000e+00 - recall: 0.0000e+00 - auc: 0.7571 - prc: 0.3092\n",
      "Epoch 6/25\n",
      "12/12 [==============================] - 3s 239ms/step - loss: 0.3686 - accuracy: 0.8503 - precision: 0.0000e+00 - recall: 0.0000e+00 - auc: 0.7508 - prc: 0.3431\n",
      "Epoch 7/25\n",
      "12/12 [==============================] - 3s 239ms/step - loss: 0.3630 - accuracy: 0.8503 - precision: 0.0000e+00 - recall: 0.0000e+00 - auc: 0.7670 - prc: 0.3074\n",
      "Epoch 8/25\n",
      "12/12 [==============================] - 3s 240ms/step - loss: 0.3502 - accuracy: 0.8503 - precision: 0.0000e+00 - recall: 0.0000e+00 - auc: 0.7972 - prc: 0.3646\n",
      "Epoch 9/25\n",
      "12/12 [==============================] - 3s 240ms/step - loss: 0.3370 - accuracy: 0.8503 - precision: 0.0000e+00 - recall: 0.0000e+00 - auc: 0.8196 - prc: 0.3942\n",
      "Epoch 10/25\n",
      "12/12 [==============================] - 3s 239ms/step - loss: 0.3368 - accuracy: 0.8503 - precision: 0.0000e+00 - recall: 0.0000e+00 - auc: 0.8127 - prc: 0.4512\n",
      "Epoch 11/25\n",
      "12/12 [==============================] - 3s 236ms/step - loss: 0.3662 - accuracy: 0.8503 - precision: 0.0000e+00 - recall: 0.0000e+00 - auc: 0.7737 - prc: 0.4051\n",
      "Epoch 12/25\n",
      "12/12 [==============================] - 3s 237ms/step - loss: 0.3659 - accuracy: 0.8503 - precision: 0.0000e+00 - recall: 0.0000e+00 - auc: 0.7769 - prc: 0.3334\n",
      "Epoch 13/25\n",
      "12/12 [==============================] - 3s 237ms/step - loss: 0.3436 - accuracy: 0.8503 - precision: 0.0000e+00 - recall: 0.0000e+00 - auc: 0.7998 - prc: 0.4543\n",
      "Epoch 14/25\n",
      "12/12 [==============================] - 3s 237ms/step - loss: 0.3080 - accuracy: 0.8503 - precision: 0.0000e+00 - recall: 0.0000e+00 - auc: 0.8626 - prc: 0.4996\n",
      "Epoch 15/25\n",
      "12/12 [==============================] - 3s 238ms/step - loss: 0.3267 - accuracy: 0.8503 - precision: 0.0000e+00 - recall: 0.0000e+00 - auc: 0.8281 - prc: 0.4303\n",
      "Epoch 16/25\n",
      "12/12 [==============================] - 3s 237ms/step - loss: 0.3121 - accuracy: 0.8503 - precision: 0.0000e+00 - recall: 0.0000e+00 - auc: 0.8530 - prc: 0.5077\n",
      "Epoch 17/25\n",
      "12/12 [==============================] - 3s 237ms/step - loss: 0.3193 - accuracy: 0.8503 - precision: 0.0000e+00 - recall: 0.0000e+00 - auc: 0.8412 - prc: 0.4717\n",
      "Epoch 18/25\n",
      "12/12 [==============================] - 3s 239ms/step - loss: 0.3031 - accuracy: 0.8503 - precision: 0.0000e+00 - recall: 0.0000e+00 - auc: 0.8629 - prc: 0.5232\n",
      "Epoch 19/25\n",
      "12/12 [==============================] - 3s 238ms/step - loss: 0.3077 - accuracy: 0.8476 - precision: 0.4000 - recall: 0.0357 - auc: 0.8550 - prc: 0.4608\n",
      "Epoch 20/25\n",
      "12/12 [==============================] - 3s 236ms/step - loss: 0.3127 - accuracy: 0.8610 - precision: 0.8333 - recall: 0.0893 - auc: 0.8504 - prc: 0.4828\n",
      "Epoch 21/25\n",
      "12/12 [==============================] - 3s 239ms/step - loss: 0.2951 - accuracy: 0.8690 - precision: 0.8889 - recall: 0.1429 - auc: 0.8722 - prc: 0.6056\n",
      "Epoch 22/25\n",
      "12/12 [==============================] - 3s 235ms/step - loss: 0.3180 - accuracy: 0.8663 - precision: 0.6875 - recall: 0.1964 - auc: 0.8411 - prc: 0.4363\n",
      "Epoch 23/25\n",
      "12/12 [==============================] - 3s 238ms/step - loss: 0.3250 - accuracy: 0.8636 - precision: 0.7778 - recall: 0.1250 - auc: 0.8364 - prc: 0.4539\n",
      "Epoch 24/25\n",
      "12/12 [==============================] - 3s 238ms/step - loss: 0.2851 - accuracy: 0.8610 - precision: 0.7500 - recall: 0.1071 - auc: 0.8875 - prc: 0.5735\n",
      "Epoch 25/25\n",
      "12/12 [==============================] - 3s 239ms/step - loss: 0.3100 - accuracy: 0.8690 - precision: 0.6667 - recall: 0.2500 - auc: 0.8546 - prc: 0.4930\n"
     ]
    }
   ],
   "source": [
    "epochs = 25\n",
    "model = create_model(METRICS)\n",
    "history = model.fit_generator(generator=\n",
    "  labeled_generator,\n",
    "  epochs=epochs\n",
    ")\n",
    "\n",
    "# fold0_generator = test_datagen.flow_from_dataframe(\n",
    "#     fold0_dataframe,\n",
    "#     # directory='harp/validation/',\n",
    "#     class_mode=None,\n",
    "#     target_size=(224, 224),\n",
    "# )\n",
    "# predictions_0 = model.predict_generator(fold0_generator,np.ceil(len(fold_0)/32))"
   ]
  },
  {
   "cell_type": "code",
   "execution_count": 149,
   "id": "bcfd2208-645d-45cf-8afe-68a7eb3a9b46",
   "metadata": {
    "tags": []
   },
   "outputs": [
    {
     "data": {
      "image/png": "[encoded data removed]",
      "text/plain": [
       "<Figure size 800x800 with 2 Axes>"
      ]
     },
     "metadata": {},
     "output_type": "display_data"
    }
   ],
   "source": [
    "acc = history.history['accuracy']\n",
    "#val_acc = history.history['val_accuracy']\n",
    "\n",
    "loss = history.history['loss']\n",
    "#val_loss = history.history['val_loss']\n",
    "\n",
    "epochs_range = range(epochs)\n",
    "\n",
    "plt.figure(figsize=(8, 8))\n",
    "plt.subplot(1, 2, 1)\n",
    "plt.plot(epochs_range, acc, label='Training Accuracy')\n",
    "#plt.plot(epochs_range, val_acc, label='Validation Accuracy')\n",
    "plt.legend(loc='lower right')\n",
    "plt.title('Training Accuracy')\n",
    "\n",
    "plt.subplot(1, 2, 2)\n",
    "plt.plot(epochs_range, loss, label='Training Loss')\n",
    "#plt.plot(epochs_range, val_loss, label='Validation Loss')\n",
    "plt.legend(loc='upper right')\n",
    "plt.title('Training Loss')\n",
    "plt.show()"
   ]
  },
  {
   "cell_type": "code",
   "execution_count": 123,
   "id": "4450c5bc-adcf-40f0-be20-a7cc84f4cc33",
   "metadata": {
    "tags": []
   },
   "outputs": [],
   "source": [
    "result = model.predict_generator(test_generator)\n",
    "# print(test_generator.class_indices)\n",
    "# print(result)\n",
    "df = pd.DataFrame()\n",
    "for i in range(len(result)):\n",
    "    if result[i]>=0.5:\n",
    "        df = pd.concat([df, pd.DataFrame([\"ushape\"])])\n",
    "    else:\n",
    "        df = pd.concat([df, pd.DataFrame([\"noushape\"])])\n",
    "        \n",
    "# print(test_generator.class_indices)\n",
    "# print(result)"
   ]
  },
  {
   "cell_type": "code",
   "execution_count": 128,
   "id": "851c7615-5b69-4e31-a889-14c838fc729a",
   "metadata": {
    "tags": []
   },
   "outputs": [],
   "source": [
    "df_test = df_test.reset_index()\n",
    "df = df.reset_index()"
   ]
  },
  {
   "cell_type": "code",
   "execution_count": 129,
   "id": "f38ebed5-be13-4c2f-b51e-20432506b57f",
   "metadata": {
    "tags": []
   },
   "outputs": [
    {
     "data": {
      "text/html": [
       "<div>\n",
       "<style scoped>\n",
       "    .dataframe tbody tr th:only-of-type {\n",
       "        vertical-align: middle;\n",
       "    }\n",
       "\n",
       "    .dataframe tbody tr th {\n",
       "        vertical-align: top;\n",
       "    }\n",
       "\n",
       "    .dataframe thead th {\n",
       "        text-align: right;\n",
       "    }\n",
       "</style>\n",
       "<table border=\"1\" class=\"dataframe\">\n",
       "  <thead>\n",
       "    <tr style=\"text-align: right;\">\n",
       "      <th></th>\n",
       "      <th>index</th>\n",
       "      <th>filename</th>\n",
       "      <th>label</th>\n",
       "    </tr>\n",
       "  </thead>\n",
       "  <tbody>\n",
       "    <tr>\n",
       "      <th>0</th>\n",
       "      <td>0</td>\n",
       "      <td>/Users/seohyeon/Documents/2023-1/lab/space_wea...</td>\n",
       "      <td>ushape</td>\n",
       "    </tr>\n",
       "    <tr>\n",
       "      <th>1</th>\n",
       "      <td>1</td>\n",
       "      <td>/Users/seohyeon/Documents/2023-1/lab/space_wea...</td>\n",
       "      <td>ushape</td>\n",
       "    </tr>\n",
       "    <tr>\n",
       "      <th>2</th>\n",
       "      <td>2</td>\n",
       "      <td>/Users/seohyeon/Documents/2023-1/lab/space_wea...</td>\n",
       "      <td>ushape</td>\n",
       "    </tr>\n",
       "    <tr>\n",
       "      <th>3</th>\n",
       "      <td>3</td>\n",
       "      <td>/Users/seohyeon/Documents/2023-1/lab/space_wea...</td>\n",
       "      <td>ushape</td>\n",
       "    </tr>\n",
       "    <tr>\n",
       "      <th>4</th>\n",
       "      <td>4</td>\n",
       "      <td>/Users/seohyeon/Documents/2023-1/lab/space_wea...</td>\n",
       "      <td>ushape</td>\n",
       "    </tr>\n",
       "    <tr>\n",
       "      <th>...</th>\n",
       "      <td>...</td>\n",
       "      <td>...</td>\n",
       "      <td>...</td>\n",
       "    </tr>\n",
       "    <tr>\n",
       "      <th>368</th>\n",
       "      <td>313</td>\n",
       "      <td>/Users/seohyeon/Documents/2023-1/lab/space_wea...</td>\n",
       "      <td>noshape</td>\n",
       "    </tr>\n",
       "    <tr>\n",
       "      <th>369</th>\n",
       "      <td>314</td>\n",
       "      <td>/Users/seohyeon/Documents/2023-1/lab/space_wea...</td>\n",
       "      <td>noshape</td>\n",
       "    </tr>\n",
       "    <tr>\n",
       "      <th>370</th>\n",
       "      <td>315</td>\n",
       "      <td>/Users/seohyeon/Documents/2023-1/lab/space_wea...</td>\n",
       "      <td>noshape</td>\n",
       "    </tr>\n",
       "    <tr>\n",
       "      <th>371</th>\n",
       "      <td>316</td>\n",
       "      <td>/Users/seohyeon/Documents/2023-1/lab/space_wea...</td>\n",
       "      <td>noshape</td>\n",
       "    </tr>\n",
       "    <tr>\n",
       "      <th>372</th>\n",
       "      <td>317</td>\n",
       "      <td>/Users/seohyeon/Documents/2023-1/lab/space_wea...</td>\n",
       "      <td>noshape</td>\n",
       "    </tr>\n",
       "  </tbody>\n",
       "</table>\n",
       "<p>373 rows × 3 columns</p>\n",
       "</div>"
      ],
      "text/plain": [
       "     index                                           filename    label\n",
       "0        0  /Users/seohyeon/Documents/2023-1/lab/space_wea...   ushape\n",
       "1        1  /Users/seohyeon/Documents/2023-1/lab/space_wea...   ushape\n",
       "2        2  /Users/seohyeon/Documents/2023-1/lab/space_wea...   ushape\n",
       "3        3  /Users/seohyeon/Documents/2023-1/lab/space_wea...   ushape\n",
       "4        4  /Users/seohyeon/Documents/2023-1/lab/space_wea...   ushape\n",
       "..     ...                                                ...      ...\n",
       "368    313  /Users/seohyeon/Documents/2023-1/lab/space_wea...  noshape\n",
       "369    314  /Users/seohyeon/Documents/2023-1/lab/space_wea...  noshape\n",
       "370    315  /Users/seohyeon/Documents/2023-1/lab/space_wea...  noshape\n",
       "371    316  /Users/seohyeon/Documents/2023-1/lab/space_wea...  noshape\n",
       "372    317  /Users/seohyeon/Documents/2023-1/lab/space_wea...  noshape\n",
       "\n",
       "[373 rows x 3 columns]"
      ]
     },
     "execution_count": 129,
     "metadata": {},
     "output_type": "execute_result"
    }
   ],
   "source": [
    "df_test"
   ]
  },
  {
   "cell_type": "code",
   "execution_count": 130,
   "id": "f8a5a55c-b9ac-4eaf-85b1-ca3b4cb749df",
   "metadata": {
    "tags": []
   },
   "outputs": [
    {
     "data": {
      "text/html": [
       "<div>\n",
       "<style scoped>\n",
       "    .dataframe tbody tr th:only-of-type {\n",
       "        vertical-align: middle;\n",
       "    }\n",
       "\n",
       "    .dataframe tbody tr th {\n",
       "        vertical-align: top;\n",
       "    }\n",
       "\n",
       "    .dataframe thead th {\n",
       "        text-align: right;\n",
       "    }\n",
       "</style>\n",
       "<table border=\"1\" class=\"dataframe\">\n",
       "  <thead>\n",
       "    <tr style=\"text-align: right;\">\n",
       "      <th></th>\n",
       "      <th>index</th>\n",
       "      <th>0</th>\n",
       "    </tr>\n",
       "  </thead>\n",
       "  <tbody>\n",
       "    <tr>\n",
       "      <th>0</th>\n",
       "      <td>0</td>\n",
       "      <td>noushape</td>\n",
       "    </tr>\n",
       "    <tr>\n",
       "      <th>1</th>\n",
       "      <td>0</td>\n",
       "      <td>noushape</td>\n",
       "    </tr>\n",
       "    <tr>\n",
       "      <th>2</th>\n",
       "      <td>0</td>\n",
       "      <td>ushape</td>\n",
       "    </tr>\n",
       "    <tr>\n",
       "      <th>3</th>\n",
       "      <td>0</td>\n",
       "      <td>noushape</td>\n",
       "    </tr>\n",
       "    <tr>\n",
       "      <th>4</th>\n",
       "      <td>0</td>\n",
       "      <td>noushape</td>\n",
       "    </tr>\n",
       "    <tr>\n",
       "      <th>...</th>\n",
       "      <td>...</td>\n",
       "      <td>...</td>\n",
       "    </tr>\n",
       "    <tr>\n",
       "      <th>368</th>\n",
       "      <td>0</td>\n",
       "      <td>ushape</td>\n",
       "    </tr>\n",
       "    <tr>\n",
       "      <th>369</th>\n",
       "      <td>0</td>\n",
       "      <td>noushape</td>\n",
       "    </tr>\n",
       "    <tr>\n",
       "      <th>370</th>\n",
       "      <td>0</td>\n",
       "      <td>noushape</td>\n",
       "    </tr>\n",
       "    <tr>\n",
       "      <th>371</th>\n",
       "      <td>0</td>\n",
       "      <td>noushape</td>\n",
       "    </tr>\n",
       "    <tr>\n",
       "      <th>372</th>\n",
       "      <td>0</td>\n",
       "      <td>noushape</td>\n",
       "    </tr>\n",
       "  </tbody>\n",
       "</table>\n",
       "<p>373 rows × 2 columns</p>\n",
       "</div>"
      ],
      "text/plain": [
       "     index         0\n",
       "0        0  noushape\n",
       "1        0  noushape\n",
       "2        0    ushape\n",
       "3        0  noushape\n",
       "4        0  noushape\n",
       "..     ...       ...\n",
       "368      0    ushape\n",
       "369      0  noushape\n",
       "370      0  noushape\n",
       "371      0  noushape\n",
       "372      0  noushape\n",
       "\n",
       "[373 rows x 2 columns]"
      ]
     },
     "execution_count": 130,
     "metadata": {},
     "output_type": "execute_result"
    }
   ],
   "source": [
    "df"
   ]
  },
  {
   "cell_type": "code",
   "execution_count": 139,
   "id": "b9faa436-f816-4b67-a878-9f5fbfcc0c49",
   "metadata": {
    "tags": []
   },
   "outputs": [
    {
     "name": "stdout",
     "output_type": "stream",
     "text": [
      "373 373\n"
     ]
    },
    {
     "data": {
      "text/html": [
       "<div>\n",
       "<style scoped>\n",
       "    .dataframe tbody tr th:only-of-type {\n",
       "        vertical-align: middle;\n",
       "    }\n",
       "\n",
       "    .dataframe tbody tr th {\n",
       "        vertical-align: top;\n",
       "    }\n",
       "\n",
       "    .dataframe thead th {\n",
       "        text-align: right;\n",
       "    }\n",
       "</style>\n",
       "<table border=\"1\" class=\"dataframe\">\n",
       "  <thead>\n",
       "    <tr style=\"text-align: right;\">\n",
       "      <th></th>\n",
       "      <th>filename</th>\n",
       "      <th>label</th>\n",
       "    </tr>\n",
       "  </thead>\n",
       "  <tbody>\n",
       "    <tr>\n",
       "      <th>0</th>\n",
       "      <td>/Users/seohyeon/Documents/2023-1/lab/space_wea...</td>\n",
       "      <td>noushape</td>\n",
       "    </tr>\n",
       "    <tr>\n",
       "      <th>1</th>\n",
       "      <td>/Users/seohyeon/Documents/2023-1/lab/space_wea...</td>\n",
       "      <td>noushape</td>\n",
       "    </tr>\n",
       "    <tr>\n",
       "      <th>2</th>\n",
       "      <td>/Users/seohyeon/Documents/2023-1/lab/space_wea...</td>\n",
       "      <td>ushape</td>\n",
       "    </tr>\n",
       "    <tr>\n",
       "      <th>3</th>\n",
       "      <td>/Users/seohyeon/Documents/2023-1/lab/space_wea...</td>\n",
       "      <td>noushape</td>\n",
       "    </tr>\n",
       "    <tr>\n",
       "      <th>4</th>\n",
       "      <td>/Users/seohyeon/Documents/2023-1/lab/space_wea...</td>\n",
       "      <td>noushape</td>\n",
       "    </tr>\n",
       "    <tr>\n",
       "      <th>...</th>\n",
       "      <td>...</td>\n",
       "      <td>...</td>\n",
       "    </tr>\n",
       "    <tr>\n",
       "      <th>368</th>\n",
       "      <td>/Users/seohyeon/Documents/2023-1/lab/space_wea...</td>\n",
       "      <td>ushape</td>\n",
       "    </tr>\n",
       "    <tr>\n",
       "      <th>369</th>\n",
       "      <td>/Users/seohyeon/Documents/2023-1/lab/space_wea...</td>\n",
       "      <td>noushape</td>\n",
       "    </tr>\n",
       "    <tr>\n",
       "      <th>370</th>\n",
       "      <td>/Users/seohyeon/Documents/2023-1/lab/space_wea...</td>\n",
       "      <td>noushape</td>\n",
       "    </tr>\n",
       "    <tr>\n",
       "      <th>371</th>\n",
       "      <td>/Users/seohyeon/Documents/2023-1/lab/space_wea...</td>\n",
       "      <td>noushape</td>\n",
       "    </tr>\n",
       "    <tr>\n",
       "      <th>372</th>\n",
       "      <td>/Users/seohyeon/Documents/2023-1/lab/space_wea...</td>\n",
       "      <td>noushape</td>\n",
       "    </tr>\n",
       "  </tbody>\n",
       "</table>\n",
       "<p>373 rows × 2 columns</p>\n",
       "</div>"
      ],
      "text/plain": [
       "                                              filename     label\n",
       "0    /Users/seohyeon/Documents/2023-1/lab/space_wea...  noushape\n",
       "1    /Users/seohyeon/Documents/2023-1/lab/space_wea...  noushape\n",
       "2    /Users/seohyeon/Documents/2023-1/lab/space_wea...    ushape\n",
       "3    /Users/seohyeon/Documents/2023-1/lab/space_wea...  noushape\n",
       "4    /Users/seohyeon/Documents/2023-1/lab/space_wea...  noushape\n",
       "..                                                 ...       ...\n",
       "368  /Users/seohyeon/Documents/2023-1/lab/space_wea...    ushape\n",
       "369  /Users/seohyeon/Documents/2023-1/lab/space_wea...  noushape\n",
       "370  /Users/seohyeon/Documents/2023-1/lab/space_wea...  noushape\n",
       "371  /Users/seohyeon/Documents/2023-1/lab/space_wea...  noushape\n",
       "372  /Users/seohyeon/Documents/2023-1/lab/space_wea...  noushape\n",
       "\n",
       "[373 rows x 2 columns]"
      ]
     },
     "execution_count": 139,
     "metadata": {},
     "output_type": "execute_result"
    }
   ],
   "source": [
    "\n",
    "print(len(df), len(df_test))\n",
    "df_pseudo = pd.concat([df_test[\"filename\"], df], axis = 1)\n",
    "df_pseudo\n",
    "df_pseudo.drop([\"index\"], axis = 1, inplace = True)\n",
    "\n",
    "df_pseudo.rename(columns={0: \"label\"}, inplace=True)\n",
    "df_pseudo"
   ]
  },
  {
   "cell_type": "code",
   "execution_count": 140,
   "id": "2450b838-43fb-466a-8b67-3889e4bd58b2",
   "metadata": {
    "tags": []
   },
   "outputs": [
    {
     "name": "stdout",
     "output_type": "stream",
     "text": [
      "Found 373 validated image filenames belonging to 2 classes.\n"
     ]
    }
   ],
   "source": [
    "pseudo_generator = test_datagen.flow_from_dataframe(\n",
    "    df_pseudo,\n",
    "    x_col='filename',\n",
    "    y_col='label',\n",
    "    class_mode='binary',\n",
    "    target_size=(224, 224),\n",
    ")"
   ]
  },
  {
   "cell_type": "code",
   "execution_count": 145,
   "id": "600ca3ea-cd93-410f-bfa4-6a4e54b87b2c",
   "metadata": {
    "tags": []
   },
   "outputs": [
    {
     "name": "stdout",
     "output_type": "stream",
     "text": [
      "Epoch 1/25\n",
      "12/12 [==============================] - 4s 232ms/step - loss: 0.5238 - accuracy: 0.9196 - precision: 0.0000e+00 - recall: 0.0000e+00 - auc: 0.5103 - prc: 0.0623\n",
      "Epoch 2/25\n",
      "12/12 [==============================] - 3s 234ms/step - loss: 0.3194 - accuracy: 0.9357 - precision: 0.0000e+00 - recall: 0.0000e+00 - auc: 0.4672 - prc: 0.0650\n",
      "Epoch 3/25\n",
      "12/12 [==============================] - 3s 239ms/step - loss: 0.2560 - accuracy: 0.9357 - precision: 0.0000e+00 - recall: 0.0000e+00 - auc: 0.5485 - prc: 0.0742\n",
      "Epoch 4/25\n",
      "12/12 [==============================] - 3s 235ms/step - loss: 0.2487 - accuracy: 0.9357 - precision: 0.0000e+00 - recall: 0.0000e+00 - auc: 0.5181 - prc: 0.1065\n",
      "Epoch 5/25\n",
      "12/12 [==============================] - 3s 236ms/step - loss: 0.2444 - accuracy: 0.9357 - precision: 0.0000e+00 - recall: 0.0000e+00 - auc: 0.5101 - prc: 0.0649\n",
      "Epoch 6/25\n",
      "12/12 [==============================] - 3s 236ms/step - loss: 0.2452 - accuracy: 0.9357 - precision: 0.0000e+00 - recall: 0.0000e+00 - auc: 0.4998 - prc: 0.0651\n",
      "Epoch 7/25\n",
      "12/12 [==============================] - 3s 237ms/step - loss: 0.2458 - accuracy: 0.9357 - precision: 0.0000e+00 - recall: 0.0000e+00 - auc: 0.4981 - prc: 0.0645\n",
      "Epoch 8/25\n",
      "12/12 [==============================] - 3s 238ms/step - loss: 0.2451 - accuracy: 0.9357 - precision: 0.0000e+00 - recall: 0.0000e+00 - auc: 0.5171 - prc: 0.0668\n",
      "Epoch 9/25\n",
      "12/12 [==============================] - 3s 234ms/step - loss: 0.2419 - accuracy: 0.9357 - precision: 0.0000e+00 - recall: 0.0000e+00 - auc: 0.5361 - prc: 0.0923\n",
      "Epoch 10/25\n",
      "12/12 [==============================] - 3s 236ms/step - loss: 0.2422 - accuracy: 0.9357 - precision: 0.0000e+00 - recall: 0.0000e+00 - auc: 0.5194 - prc: 0.0627\n",
      "Epoch 11/25\n",
      "12/12 [==============================] - 3s 246ms/step - loss: 0.2508 - accuracy: 0.9357 - precision: 0.0000e+00 - recall: 0.0000e+00 - auc: 0.4509 - prc: 0.0634\n",
      "Epoch 12/25\n",
      "12/12 [==============================] - 3s 238ms/step - loss: 0.2413 - accuracy: 0.9357 - precision: 0.0000e+00 - recall: 0.0000e+00 - auc: 0.5918 - prc: 0.1126\n",
      "Epoch 13/25\n",
      "12/12 [==============================] - 3s 239ms/step - loss: 0.2405 - accuracy: 0.9357 - precision: 0.0000e+00 - recall: 0.0000e+00 - auc: 0.5201 - prc: 0.1235\n",
      "Epoch 14/25\n",
      "12/12 [==============================] - 3s 240ms/step - loss: 0.2366 - accuracy: 0.9357 - precision: 0.0000e+00 - recall: 0.0000e+00 - auc: 0.5812 - prc: 0.0893\n",
      "Epoch 15/25\n",
      "12/12 [==============================] - 3s 237ms/step - loss: 0.2441 - accuracy: 0.9357 - precision: 0.0000e+00 - recall: 0.0000e+00 - auc: 0.4828 - prc: 0.0614\n",
      "Epoch 16/25\n",
      "12/12 [==============================] - 3s 240ms/step - loss: 0.2436 - accuracy: 0.9357 - precision: 0.0000e+00 - recall: 0.0000e+00 - auc: 0.4799 - prc: 0.0867\n",
      "Epoch 17/25\n",
      "12/12 [==============================] - 3s 238ms/step - loss: 0.2420 - accuracy: 0.9357 - precision: 0.0000e+00 - recall: 0.0000e+00 - auc: 0.5217 - prc: 0.0683\n",
      "Epoch 18/25\n",
      "12/12 [==============================] - 3s 238ms/step - loss: 0.2437 - accuracy: 0.9357 - precision: 0.0000e+00 - recall: 0.0000e+00 - auc: 0.5261 - prc: 0.0662\n",
      "Epoch 19/25\n",
      "12/12 [==============================] - 3s 236ms/step - loss: 0.2381 - accuracy: 0.9357 - precision: 0.0000e+00 - recall: 0.0000e+00 - auc: 0.5586 - prc: 0.0890\n",
      "Epoch 20/25\n",
      "12/12 [==============================] - 3s 244ms/step - loss: 0.2549 - accuracy: 0.9357 - precision: 0.0000e+00 - recall: 0.0000e+00 - auc: 0.4552 - prc: 0.0659\n",
      "Epoch 21/25\n",
      "12/12 [==============================] - 3s 237ms/step - loss: 0.2396 - accuracy: 0.9357 - precision: 0.0000e+00 - recall: 0.0000e+00 - auc: 0.5602 - prc: 0.0689\n",
      "Epoch 22/25\n",
      "12/12 [==============================] - 3s 237ms/step - loss: 0.2502 - accuracy: 0.9357 - precision: 0.0000e+00 - recall: 0.0000e+00 - auc: 0.4809 - prc: 0.0575\n",
      "Epoch 23/25\n",
      "12/12 [==============================] - 3s 239ms/step - loss: 0.2396 - accuracy: 0.9357 - precision: 0.0000e+00 - recall: 0.0000e+00 - auc: 0.5442 - prc: 0.0705\n",
      "Epoch 24/25\n",
      "12/12 [==============================] - 3s 236ms/step - loss: 0.2459 - accuracy: 0.9357 - precision: 0.0000e+00 - recall: 0.0000e+00 - auc: 0.4693 - prc: 0.0622\n",
      "Epoch 25/25\n",
      "12/12 [==============================] - 3s 247ms/step - loss: 0.2388 - accuracy: 0.9357 - precision: 0.0000e+00 - recall: 0.0000e+00 - auc: 0.5560 - prc: 0.0746\n"
     ]
    }
   ],
   "source": [
    "epochs = 25\n",
    "model = create_model(METRICS)\n",
    "history2 = model.fit_generator(generator=\n",
    "  pseudo_generator,\n",
    "  epochs=epochs\n",
    ")"
   ]
  },
  {
   "cell_type": "code",
   "execution_count": 148,
   "id": "00c5757f-b3e3-4ce5-833e-572095e081fb",
   "metadata": {
    "tags": []
   },
   "outputs": [
    {
     "data": {
      "image/png": "[encoded data removed]",
      "text/plain": [
       "<Figure size 800x800 with 2 Axes>"
      ]
     },
     "metadata": {},
     "output_type": "display_data"
    }
   ],
   "source": [
    "acc = history2.history['accuracy']\n",
    "#val_acc = history.history['val_accuracy']\n",
    "\n",
    "loss = history2.history['loss']\n",
    "#val_loss = history.history['val_loss']\n",
    "\n",
    "epochs_range = range(epochs)\n",
    "\n",
    "plt.figure(figsize=(8, 8))\n",
    "plt.subplot(1, 2, 1)\n",
    "plt.plot(epochs_range, acc, label='Training Accuracy')\n",
    "#plt.plot(epochs_range, val_acc, label='Validation Accuracy')\n",
    "plt.legend(loc='lower right')\n",
    "plt.title('Training Accuracy')\n",
    "\n",
    "plt.subplot(1, 2, 2)\n",
    "plt.plot(epochs_range, loss, label='Training Loss')\n",
    "#plt.plot(epochs_range, val_loss, label='Validation Loss')\n",
    "plt.legend(loc='upper right')\n",
    "plt.title('Training Loss')\n",
    "plt.show()"
   ]
  },
  {
   "cell_type": "code",
   "execution_count": null,
   "id": "a6d3e1cf-50ec-4e59-a348-dc3b073f75eb",
   "metadata": {},
   "outputs": [],
   "source": []
  }
 ],
 "metadata": {
  "kernelspec": {
   "display_name": "py38_k",
   "language": "python",
   "name": "py38"
  },
  "language_info": {
   "codemirror_mode": {
    "name": "ipython",
    "version": 3
   },
   "file_extension": ".py",
   "mimetype": "text/x-python",
   "name": "python",
   "nbconvert_exporter": "python",
   "pygments_lexer": "ipython3",
   "version": "3.8.16"
  }
 },
 "nbformat": 4,
 "nbformat_minor": 5
}
